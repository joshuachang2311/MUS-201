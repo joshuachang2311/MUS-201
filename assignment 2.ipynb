{
 "cells": [
  {
   "cell_type": "markdown",
   "metadata": {},
   "source": [
    "# MUS 201 assignment 2"
   ]
  },
  {
   "cell_type": "code",
   "execution_count": 1,
   "metadata": {},
   "outputs": [],
   "source": [
    "from frequency import Frequency\n",
    "\n",
    "pitch_class_to_note = ['C', 'C#', 'D', 'Eb', 'E', 'F', 'F#', 'G', 'Ab', 'A', 'Bb', 'B']"
   ]
  },
  {
   "cell_type": "markdown",
   "metadata": {},
   "source": [
    "## Question 1\n",
    "Show the first 15 overtones of the sound below. Mark the Equal Temperament sounds that differ the most from the natural resonance series."
   ]
  },
  {
   "cell_type": "code",
   "execution_count": 2,
   "metadata": {},
   "outputs": [
    {
     "name": "stdout",
     "output_type": "stream",
     "text": [
      "overtone #0: note name = Bb1, cents from TET = 0.00\n",
      "overtone #1: note name = Bb2, cents from TET = 0.00\n",
      "overtone #2: note name = F3, cents from TET = 1.96\n",
      "overtone #3: note name = Bb3, cents from TET = 0.00\n",
      "overtone #4: note name = D4, cents from TET = -13.69\n",
      "overtone #5: note name = F4, cents from TET = 1.96\n",
      "overtone #6: note name = Ab4, cents from TET = -31.17\n",
      "overtone #7: note name = Bb4, cents from TET = 0.00\n",
      "overtone #8: note name = C5, cents from TET = 3.91\n",
      "overtone #9: note name = D5, cents from TET = -13.69\n",
      "overtone #10: note name = E5, cents from TET = -48.68\n",
      "overtone #11: note name = F5, cents from TET = 1.96\n",
      "overtone #12: note name = F#5, cents from TET = 40.53\n",
      "overtone #13: note name = Ab5, cents from TET = -31.17\n",
      "overtone #14: note name = A5, cents from TET = -11.73\n",
      "overtone #15: note name = Bb5, cents from TET = 0.00\n"
     ]
    }
   ],
   "source": [
    "Bb1 = Frequency(1, 10)\n",
    "Bb1_overtones = [Bb1.nth_overtone(i) for i in range(1, 1 + 16)]\n",
    "for i, overtone in enumerate(Bb1_overtones):\n",
    "    print('overtone #{}: note name = {}{}, cents from TET = {:.2f}'.format(\n",
    "        i, pitch_class_to_note[overtone.pitch_class], overtone.octave, overtone.cent_from_tet()))"
   ]
  },
  {
   "cell_type": "markdown",
   "metadata": {},
   "source": [
    "The 12th overtone differs the most from the natural resonance series."
   ]
  },
  {
   "cell_type": "markdown",
   "metadata": {},
   "source": [
    "## Question 2\n",
    "List all the ratios defining\n",
    " - minor thirds in the overtone series within four octaves\n",
    " - perfect fourths within four octaves"
   ]
  },
  {
   "cell_type": "code",
   "execution_count": 3,
   "metadata": {},
   "outputs": [
    {
     "name": "stdout",
     "output_type": "stream",
     "text": [
      "6/5\n",
      "7/6\n",
      "12/10\n",
      "14/12\n",
      "15/13\n"
     ]
    }
   ],
   "source": [
    "for i in range(len(Bb1_overtones)):\n",
    "    for j in range(i, len(Bb1_overtones)):\n",
    "        pitch_i = Bb1_overtones[i].octave * 12 + Bb1_overtones[i].pitch_class\n",
    "        pitch_j = Bb1_overtones[j].octave * 12 + Bb1_overtones[j].pitch_class\n",
    "        \n",
    "        if pitch_j - pitch_i == 3:\n",
    "            print(f'{j + 1}/{i + 1}')\n",
    "            break"
   ]
  },
  {
   "cell_type": "code",
   "execution_count": 4,
   "metadata": {},
   "outputs": [
    {
     "name": "stdout",
     "output_type": "stream",
     "text": [
      "4/3\n",
      "8/6\n",
      "12/9\n",
      "15/11\n",
      "16/12\n"
     ]
    }
   ],
   "source": [
    "for i in range(len(Bb1_overtones)):\n",
    "    for j in range(i, len(Bb1_overtones)):\n",
    "        pitch_i = Bb1_overtones[i].octave * 12 + Bb1_overtones[i].pitch_class\n",
    "        pitch_j = Bb1_overtones[j].octave * 12 + Bb1_overtones[j].pitch_class\n",
    "        \n",
    "        if pitch_j - pitch_i == 5:\n",
    "            print(f'{j + 1}/{i + 1}')\n",
    "            break"
   ]
  },
  {
   "cell_type": "markdown",
   "metadata": {},
   "source": [
    "## Question 3\n",
    "\n",
    "A2, the second lowest A sound on piano, has the frequency of 55 Hertz or cycles/second. Compute the frequencies of its first 15 overtones of this sound."
   ]
  },
  {
   "cell_type": "code",
   "execution_count": 5,
   "metadata": {},
   "outputs": [
    {
     "name": "stdout",
     "output_type": "stream",
     "text": [
      "overtone #0: frequency = 110\n",
      "overtone #1: frequency = 220\n",
      "overtone #2: frequency = 330\n",
      "overtone #3: frequency = 440\n",
      "overtone #4: frequency = 550\n",
      "overtone #5: frequency = 660\n",
      "overtone #6: frequency = 770\n",
      "overtone #7: frequency = 880\n",
      "overtone #8: frequency = 990\n",
      "overtone #9: frequency = 1100\n",
      "overtone #10: frequency = 1210\n",
      "overtone #11: frequency = 1320\n",
      "overtone #12: frequency = 1430\n",
      "overtone #13: frequency = 1540\n",
      "overtone #14: frequency = 1650\n",
      "overtone #15: frequency = 1760\n"
     ]
    }
   ],
   "source": [
    "A2 = Frequency(2, 9)\n",
    "A2_overtones = [A2.nth_overtone(i) for i in range(1, 1 + 16)]\n",
    "for i, overtone in enumerate(A2_overtones):\n",
    "    print(f'overtone #{i}: frequency = {int(overtone.frequency)}')"
   ]
  },
  {
   "cell_type": "markdown",
   "metadata": {},
   "source": [
    "## Question 4\n",
    "\n",
    "For each of the following sounds which is the pitch corresponding to the ratio indicated:"
   ]
  },
  {
   "cell_type": "code",
   "execution_count": 6,
   "metadata": {},
   "outputs": [
    {
     "name": "stdout",
     "output_type": "stream",
     "text": [
      "F2 = 1    ratio 10/1    pitch: A    octave: 5\n",
      "D3 = 1    ratio 7/1    pitch: C    octave: 6\n",
      "G2 = 1    ratio 13/1    pitch: Eb    octave: 6\n",
      "Eb3 = 1    ratio 9/1    pitch: F    octave: 6\n",
      "B2 = 1    ratio 11/1    pitch: F    octave: 6\n"
     ]
    }
   ],
   "source": [
    "pitch_classes = [5, 2, 7, 3, 11]\n",
    "octaves = [2, 3, 2, 3, 2]\n",
    "ratios = [10, 7, 13, 9, 11]\n",
    "\n",
    "for pitch_class, octave, ratio in zip(pitch_classes, octaves, ratios):\n",
    "    overtone = Frequency(Frequency(octave, pitch_class).frequency * ratio)\n",
    "    print(\n",
    "        f'{pitch_class_to_note[pitch_class]}{octave} = 1    ratio {ratio}/1    '\n",
    "        f'pitch: {pitch_class_to_note[overtone.pitch_class]}    octave: {overtone.octave}'\n",
    "    )"
   ]
  }
 ],
 "metadata": {
  "kernelspec": {
   "display_name": "Python 3",
   "language": "python",
   "name": "python3"
  },
  "language_info": {
   "codemirror_mode": {
    "name": "ipython",
    "version": 3
   },
   "file_extension": ".py",
   "mimetype": "text/x-python",
   "name": "python",
   "nbconvert_exporter": "python",
   "pygments_lexer": "ipython3",
   "version": "3.8.3"
  }
 },
 "nbformat": 4,
 "nbformat_minor": 4
}
