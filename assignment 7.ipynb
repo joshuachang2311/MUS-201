{
 "cells": [
  {
   "cell_type": "markdown",
   "metadata": {},
   "source": [
    "# MUS 201 assignment 7"
   ]
  },
  {
   "cell_type": "markdown",
   "metadata": {},
   "source": [
    "Analyze the pitch structure of the first 9 bars of L'artisanat furieux\", the [third movement](http://cmp.music.illinois.edu/courses/tipei/M201/Works/marteauIII.pdf) of Le marteau sans maitre\" by Pierre Boulez. Note that the Flute is an Alto Flute in G (en sol).\n",
    "\n",
    "1. On a separate page of music paper, transcribe the Flute part ie. write the sounds as they are heard. Do not copy the rhythmic values, only the pitches but preserve the bar lines.\n",
    "\n",
    "2. Using the charts available at [domains 1 & 2](http://cmp.music.illinois.edu/courses/tipei/M201/Works/domains1and2.pdf) label the domains and the frequency groups present. Mark on the score the groups using the notation found in the matrix resulting from the \"multiplication\" operation, as shown on the [Integral Serialism II](http://cmp.music.illinois.edu/courses/tipei/M201/Notes/boulez2.html) page: aa, de, cb, ... etc."
   ]
  },
  {
   "cell_type": "code",
   "execution_count": 1,
   "metadata": {},
   "outputs": [],
   "source": [
    "from miditoolkit.midi import parser\n",
    "\n",
    "n_tones = 12\n",
    "n_bars = 9\n",
    "n_segments = 5\n",
    "beats_per_bar = 4"
   ]
  },
  {
   "cell_type": "code",
   "execution_count": 2,
   "metadata": {},
   "outputs": [],
   "source": [
    "def get_possible_groups(pitch_classes, matrix):\n",
    "    possible_groups = []\n",
    "    for i in range(n_segments):\n",
    "        for j in range(n_segments):\n",
    "            if pitch_classes.issubset(matrix[i][j]):\n",
    "                possible_groups.append(f'{\"abcde\"[i]}{\"abcde\"[j]}')\n",
    "                \n",
    "    return possible_groups"
   ]
  },
  {
   "cell_type": "code",
   "execution_count": 3,
   "metadata": {},
   "outputs": [
    {
     "name": "stdout",
     "output_type": "stream",
     "text": [
      "Pitch classes that appear in the flute part of each measure\n",
      "\n",
      "measure 1: {0, 1, 2, 8, 9, 10, 11}\n",
      "measure 2: {3, 4, 5, 6, 7, 8, 9, 10, 11}\n",
      "measure 3: {2, 3, 5, 6, 8, 9}\n",
      "measure 4: {1, 2, 4, 5}\n",
      "measure 5: {0, 1, 2, 3, 4, 9, 10, 11}\n",
      "measure 6: {11}\n",
      "measure 7: {}\n",
      "measure 8: {}\n",
      "measure 9: {3}\n"
     ]
    }
   ],
   "source": [
    "flute_obj = parser.MidiFile('flute.mid')\n",
    "ticks_per_bar = flute_obj.ticks_per_beat * beats_per_bar\n",
    "flute_pitch_classes_by_bar = [set() for i in range(n_bars)]\n",
    "\n",
    "for note in flute_obj.instruments[0].notes:\n",
    "    flute_pitch_classes_by_bar[note.start // ticks_per_bar].add(note.pitch % n_tones)\n",
    "\n",
    "print('Pitch classes that appear in the flute part of each measure\\n')\n",
    "for i, pitch_classes in enumerate(flute_pitch_classes_by_bar):\n",
    "    print(f'measure {i + 1}: {pitch_classes if len(pitch_classes) > 0 else {}}')"
   ]
  },
  {
   "cell_type": "code",
   "execution_count": 4,
   "metadata": {},
   "outputs": [
    {
     "name": "stdout",
     "output_type": "stream",
     "text": [
      "Pitch classes that are in a frequency group\n",
      "\n",
      "aa: {1, 3, 5}\n",
      "ab: {0, 1, 2, 8, 9, 10, 11}\n",
      "ac: {0, 9, 10, 7}\n",
      "ad: {8, 6}\n",
      "ae: {2, 4, 5, 6, 7}\n",
      "ba: {0, 1, 2, 8, 9, 10, 11}\n",
      "bb: {3, 4, 5, 6, 7, 8, 9, 10, 11}\n",
      "bc: {2, 3, 5, 6, 8, 9}\n",
      "bd: {1, 2, 4, 5}\n",
      "be: {0, 1, 2, 3, 4, 9, 10, 11}\n",
      "ca: {0, 9, 10, 7}\n",
      "cb: {2, 3, 5, 6, 8, 9}\n",
      "cc: {1, 4, 7}\n",
      "cd: {0, 3}\n",
      "ce: {1, 2, 8, 10, 11}\n",
      "da: {8, 6}\n",
      "db: {1, 2, 4, 5}\n",
      "dc: {0, 3}\n",
      "dd: {11}\n",
      "de: {9, 10, 7}\n",
      "ea: {2, 4, 5, 6, 7}\n",
      "eb: {0, 1, 2, 3, 4, 9, 10, 11}\n",
      "ec: {1, 2, 8, 10, 11}\n",
      "ed: {9, 10, 7}\n",
      "ee: {3, 5, 6, 7, 8, 9}\n"
     ]
    }
   ],
   "source": [
    "domain_1 = parser.MidiFile('domain_1.mid')\n",
    "matrix_1 = [[set() for j in range(n_segments)] for i in range(n_segments)]\n",
    "\n",
    "for note in domain_1.instruments[0].notes:\n",
    "    bar_number = note.start // ticks_per_bar\n",
    "    row = bar_number // n_segments\n",
    "    col = bar_number % n_segments\n",
    "    matrix_1[row][col].add(note.pitch % n_tones)\n",
    "\n",
    "print('Pitch classes that are in a frequency group\\n')\n",
    "for i, char_1 in enumerate('abcde'):\n",
    "    for j, char_2 in enumerate('abcde'):\n",
    "        print(f'{char_1}{char_2}: {matrix_1[i][j]}')"
   ]
  },
  {
   "cell_type": "code",
   "execution_count": 5,
   "metadata": {},
   "outputs": [
    {
     "name": "stdout",
     "output_type": "stream",
     "text": [
      "Candidate frequency groups of each measure\n",
      "\n",
      "measure #1: ['ab', 'ba']\n",
      "measure #2: ['bb']\n",
      "measure #3: ['bc', 'cb']\n",
      "measure #4: ['bd', 'db']\n",
      "measure #5: ['be', 'eb']\n",
      "measure #6: ['ab', 'ba', 'bb', 'be', 'ce', 'dd', 'eb', 'ec']\n",
      "measure #7: ['aa', 'ab', 'ac', 'ad', 'ae', 'ba', 'bb', 'bc', 'bd', 'be']\n",
      "measure #8: ['aa', 'ab', 'ac', 'ad', 'ae', 'ba', 'bb', 'bc', 'bd', 'be']\n",
      "measure #9: ['aa', 'bb', 'bc', 'be', 'cb', 'cd', 'dc', 'eb', 'ee']\n"
     ]
    }
   ],
   "source": [
    "print('Candidate frequency groups of each measure\\n')\n",
    "for i, pitch_classes in enumerate(flute_pitch_classes_by_bar):\n",
    "    print(f'measure #{i + 1}: {get_possible_groups(pitch_classes, matrix_1)[:10]}')"
   ]
  },
  {
   "cell_type": "code",
   "execution_count": 6,
   "metadata": {},
   "outputs": [
    {
     "name": "stdout",
     "output_type": "stream",
     "text": [
      "Pitch classes that appear in the voice part of each measure\n",
      "\n",
      "measure 1: {}\n",
      "measure 2: {}\n",
      "measure 3: {}\n",
      "measure 4: {}\n",
      "measure 5: {}\n",
      "measure 6: {0, 1, 2, 9, 10}\n",
      "measure 7: {8, 5, 6, 7}\n",
      "measure 8: {1, 4, 5, 8, 9}\n",
      "measure 9: {2, 4}\n"
     ]
    }
   ],
   "source": [
    "voice_obj = parser.MidiFile('voice.mid')\n",
    "voice_pitch_classes_by_bar = [set() for i in range(n_bars)]\n",
    "\n",
    "for note in voice_obj.instruments[0].notes:\n",
    "    voice_pitch_classes_by_bar[note.start // ticks_per_bar].add(note.pitch % n_tones)\n",
    "\n",
    "print('Pitch classes that appear in the voice part of each measure\\n')\n",
    "for i, pitch_classes in enumerate(voice_pitch_classes_by_bar):\n",
    "    print(f'measure {i + 1}: {pitch_classes if len(pitch_classes) > 0 else {}}')"
   ]
  },
  {
   "cell_type": "code",
   "execution_count": 7,
   "metadata": {},
   "outputs": [
    {
     "name": "stdout",
     "output_type": "stream",
     "text": [
      "Pitch classes that are in a frequency group\n",
      "\n",
      "aa: {0, 1, 2, 3, 4, 5, 6, 8}\n",
      "ab: {0, 1, 2, 9, 10, 11}\n",
      "ac: {0, 9, 10, 8}\n",
      "ad: {0, 1, 3, 4, 5, 7, 8, 9, 11}\n",
      "ae: {5, 6, 7, 8, 9, 10}\n",
      "ba: {0, 1, 2, 9, 10, 11}\n",
      "bb: {8, 6, 7}\n",
      "bc: {5, 6}\n",
      "bd: {0, 1, 4, 5, 8, 9}\n",
      "be: {2, 3, 4}\n",
      "ca: {0, 9, 10, 8}\n",
      "cb: {5, 6}\n",
      "cc: {4}\n",
      "cd: {11, 3, 7}\n",
      "ce: {1, 2}\n",
      "da: {0, 1, 3, 4, 5, 7, 8, 9, 11}\n",
      "db: {0, 1, 4, 5, 8, 9}\n",
      "dc: {11, 3, 7}\n",
      "dd: {2, 10, 6}\n",
      "de: {0, 1, 4, 5, 8, 9}\n",
      "ea: {5, 6, 7, 8, 9, 10}\n",
      "eb: {2, 3, 4}\n",
      "ec: {1, 2}\n",
      "ed: {0, 1, 4, 5, 8, 9}\n",
      "ee: {0, 10, 11}\n"
     ]
    }
   ],
   "source": [
    "domain_2 = parser.MidiFile('domain_2.mid')\n",
    "matrix_2 = [[set() for j in range(n_segments)] for i in range(n_segments)]\n",
    "\n",
    "for note in domain_2.instruments[0].notes:\n",
    "    bar_number = note.start // ticks_per_bar\n",
    "    row = bar_number // n_segments\n",
    "    col = bar_number % n_segments\n",
    "    matrix_2[row][col].add(note.pitch % n_tones)\n",
    "\n",
    "print('Pitch classes that are in a frequency group\\n')\n",
    "for i, char_1 in enumerate('abcde'):\n",
    "    for j, char_2 in enumerate('abcde'):\n",
    "        print(f'{char_1}{char_2}: {matrix_2[i][j]}')"
   ]
  },
  {
   "cell_type": "code",
   "execution_count": 8,
   "metadata": {},
   "outputs": [
    {
     "name": "stdout",
     "output_type": "stream",
     "text": [
      "Candidate frequency groups of each measure\n",
      "\n",
      "measure #1: ['aa', 'ab', 'ac', 'ad', 'ae', 'ba', 'bb', 'bc', 'bd', 'be']\n",
      "measure #2: ['aa', 'ab', 'ac', 'ad', 'ae', 'ba', 'bb', 'bc', 'bd', 'be']\n",
      "measure #3: ['aa', 'ab', 'ac', 'ad', 'ae', 'ba', 'bb', 'bc', 'bd', 'be']\n",
      "measure #4: ['aa', 'ab', 'ac', 'ad', 'ae', 'ba', 'bb', 'bc', 'bd', 'be']\n",
      "measure #5: ['aa', 'ab', 'ac', 'ad', 'ae', 'ba', 'bb', 'bc', 'bd', 'be']\n",
      "measure #6: ['ab', 'ba']\n",
      "measure #7: ['ae', 'ea']\n",
      "measure #8: ['ad', 'bd', 'da', 'db', 'de', 'ed']\n",
      "measure #9: ['aa', 'be', 'eb']\n"
     ]
    }
   ],
   "source": [
    "print('Candidate frequency groups of each measure\\n')\n",
    "for i, pitch_classes in enumerate(voice_pitch_classes_by_bar):\n",
    "    print(f'measure #{i + 1}: {get_possible_groups(pitch_classes, matrix_2)[:10]}')"
   ]
  }
 ],
 "metadata": {
  "kernelspec": {
   "display_name": "Python 3",
   "language": "python",
   "name": "python3"
  },
  "language_info": {
   "codemirror_mode": {
    "name": "ipython",
    "version": 3
   },
   "file_extension": ".py",
   "mimetype": "text/x-python",
   "name": "python",
   "nbconvert_exporter": "python",
   "pygments_lexer": "ipython3",
   "version": "3.8.3"
  }
 },
 "nbformat": 4,
 "nbformat_minor": 4
}
