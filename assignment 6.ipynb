{
 "cells": [
  {
   "cell_type": "markdown",
   "metadata": {},
   "source": [
    "# MUS 201 assignment 6"
   ]
  },
  {
   "cell_type": "code",
   "execution_count": 1,
   "metadata": {},
   "outputs": [],
   "source": [
    "import numpy as np\n",
    "from miditoolkit.midi import parser\n",
    "\n",
    "pitch_class_to_note = ['C', 'C#', 'D', 'Eb', 'E', 'F', 'F#', 'G', 'Ab', 'A', 'Bb', 'B']\n",
    "n_semitones = 12"
   ]
  },
  {
   "cell_type": "markdown",
   "metadata": {},
   "source": [
    "## Question 1\n",
    "\n",
    "The tone-row used in Alban Berg's Violin Concerto is:\n",
    "\n",
    "![](https://i.imgur.com/8VIw7iZ.png)\n",
    "\n",
    "Write this tone-row using:\n",
    " - letter notation\n",
    " - numbers"
   ]
  },
  {
   "cell_type": "code",
   "execution_count": 2,
   "metadata": {},
   "outputs": [
    {
     "name": "stdout",
     "output_type": "stream",
     "text": [
      "tone-row = ['G', 'Bb', 'D', 'F#', 'A', 'C', 'E', 'Ab', 'B', 'C#', 'Eb', 'F']\n",
      "tone-row = array([ 0,  3,  7, 11,  2,  5,  9,  1,  4,  6,  8, 10])\n"
     ]
    }
   ],
   "source": [
    "pitches = [note.pitch for note in parser.MidiFile('tone_row.mid').instruments[0].notes]\n",
    "tone_row = np.array([(pitch - pitches[0]) % n_semitones for pitch in pitches])\n",
    "\n",
    "print(f'tone-row = {[pitch_class_to_note[pitch % n_semitones] for pitch in pitches]}')\n",
    "print(f'tone-row = {tone_row.__repr__()}')"
   ]
  },
  {
   "cell_type": "markdown",
   "metadata": {},
   "source": [
    "## Question 2\n",
    "\n",
    "Write the matrix for this tone-row."
   ]
  },
  {
   "cell_type": "code",
   "execution_count": 3,
   "metadata": {
    "scrolled": true
   },
   "outputs": [
    {
     "name": "stdout",
     "output_type": "stream",
     "text": [
      "[[ 0  3  7 11  2  5  9  1  4  6  8 10]\n",
      " [ 9  0  4  8 11  2  6 10  1  3  5  7]\n",
      " [ 5  8  0  4  7 10  2  6  9 11  1  3]\n",
      " [ 1  4  8  0  3  6 10  2  5  7  9 11]\n",
      " [10  1  5  9  0  3  7 11  2  4  6  8]\n",
      " [ 7 10  2  6  9  0  4  8 11  1  3  5]\n",
      " [ 3  6 10  2  5  8  0  4  7  9 11  1]\n",
      " [11  2  6 10  1  4  8  0  3  5  7  9]\n",
      " [ 8 11  3  7 10  1  5  9  0  2  4  6]\n",
      " [ 6  9  1  5  8 11  3  7 10  0  2  4]\n",
      " [ 4  7 11  3  6  9  1  5  8 10  0  2]\n",
      " [ 2  5  9  1  4  7 11  3  6  8 10  0]]\n"
     ]
    }
   ],
   "source": [
    "matrix = np.full((n_semitones, n_semitones), 0)\n",
    "for i, tone in enumerate(tone_row):\n",
    "    matrix[i, :] = (tone_row + n_semitones - tone) % n_semitones\n",
    "print(matrix)"
   ]
  },
  {
   "cell_type": "markdown",
   "metadata": {},
   "source": [
    "## Question 3\n",
    "\n",
    "Using musical notation, write the RI10 of the tone-row."
   ]
  },
  {
   "cell_type": "code",
   "execution_count": 4,
   "metadata": {},
   "outputs": [
    {
     "name": "stdout",
     "output_type": "stream",
     "text": [
      "['G', 'A', 'B', 'C#', 'E', 'Ab', 'C', 'Eb', 'F#', 'Bb', 'D', 'F']\n"
     ]
    }
   ],
   "source": [
    "print([pitch_class_to_note[(pitches[0] + pitch_class) % 12] for pitch_class in np.flip(matrix[:, 11])])"
   ]
  },
  {
   "cell_type": "markdown",
   "metadata": {},
   "source": [
    "## Question 4\n",
    "\n",
    "Briefly describe Berg's reasons for creating this particular tone-row.\n",
    "\n",
    "By outlining triads in the first few notes, the music based on this tone row can sound a bit tonal even though it isn't."
   ]
  },
  {
   "cell_type": "markdown",
   "metadata": {},
   "source": [
    "## Question 5\n",
    "\n",
    "How is this tone-row different from the one used by Schoenberg in Variations for Orchestra?\n",
    "\n",
    "While Berg manipulates the overall sounding of the pieces with his row, Schoenberg uses his row more as a motif or melody."
   ]
  }
 ],
 "metadata": {
  "kernelspec": {
   "display_name": "Python 3",
   "language": "python",
   "name": "python3"
  },
  "language_info": {
   "codemirror_mode": {
    "name": "ipython",
    "version": 3
   },
   "file_extension": ".py",
   "mimetype": "text/x-python",
   "name": "python",
   "nbconvert_exporter": "python",
   "pygments_lexer": "ipython3",
   "version": "3.8.3"
  }
 },
 "nbformat": 4,
 "nbformat_minor": 4
}
