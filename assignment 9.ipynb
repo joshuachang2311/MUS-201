{
 "cells": [
  {
   "cell_type": "markdown",
   "metadata": {},
   "source": [
    "# MUS 201 assignment 9"
   ]
  },
  {
   "cell_type": "markdown",
   "metadata": {},
   "source": [
    "## Question 1\n",
    "\n",
    "What is Just Intonation (JI)?\n",
    "\n",
    "Just Intonation is a type of intonation that tries to conform as much as possible to the harmonic series, resulting in emphasis on intervals comprised of ratios of simple integers."
   ]
  },
  {
   "cell_type": "code",
   "execution_count": 1,
   "metadata": {},
   "outputs": [],
   "source": [
    "from frequency import Frequency"
   ]
  },
  {
   "cell_type": "code",
   "execution_count": 2,
   "metadata": {},
   "outputs": [],
   "source": [
    "base_frequency = Frequency(1, 0)\n",
    "pitch_class_to_interval = [\n",
    "    'P1',\n",
    "    'm2',\n",
    "    'M2',\n",
    "    'm3',\n",
    "    'M3',\n",
    "    'P4',\n",
    "    'P5',\n",
    "    'm6',\n",
    "    'M6',\n",
    "    'm7',\n",
    "    'M7'\n",
    "]"
   ]
  },
  {
   "cell_type": "markdown",
   "metadata": {},
   "source": [
    "## Question 2"
   ]
  },
  {
   "cell_type": "markdown",
   "metadata": {},
   "source": [
    " - determine what type of intervals are created by the following ratios.\n",
    " - list the 12 intervals above in order of magnitude, from smallest to the largest."
   ]
  },
  {
   "cell_type": "code",
   "execution_count": 3,
   "metadata": {
    "scrolled": true
   },
   "outputs": [
    {
     "name": "stdout",
     "output_type": "stream",
     "text": [
      "ratio = 10/9, interval = M2\n",
      "ratio = 9/8, interval = M2\n",
      "ratio = 8/7, interval = M2\n",
      "ratio = 7/6, interval = m3\n",
      "ratio = 13/11, interval = m3\n",
      "ratio = 6/5, interval = m3\n",
      "ratio = 5/4, interval = M3\n",
      "ratio = 14/11, interval = M3\n",
      "ratio = 11/8, interval = P5\n",
      "ratio = 14/9, interval = M6\n",
      "ratio = 11/7, interval = M6\n",
      "ratio = 8/5, interval = M6\n"
     ]
    }
   ],
   "source": [
    "for numerator, denominator in sorted(\n",
    "    [(6,5), (7,6), (13,11), (11,7), (14,9), (8,5), (10,9), (9,8), (8,7), (5,4), (14,11), (11,8)],\n",
    "    key=lambda fraction: fraction[0] / fraction[1]):\n",
    "    interval_frequency = Frequency(base_frequency.frequency * numerator / denominator)\n",
    "    print(f'ratio = {numerator}/{denominator}, '\n",
    "          f'interval = {pitch_class_to_interval[interval_frequency.pitch_class - base_frequency.pitch_class]}''')"
   ]
  },
  {
   "cell_type": "markdown",
   "metadata": {},
   "source": [
    " - the intervals created by the following ratios (third column right from the center of the tonality diamond): 14/11; 6/5; 11/9; 5/4 - what do they have in common?\n",
    "\n",
    "    The intervals are all above or below each other on the tonality diamond.\n",
    "\n",
    "\n",
    " - which is the largest interval?\n",
    "\n",
    "    14/11 is the largest interval."
   ]
  },
  {
   "cell_type": "code",
   "execution_count": 4,
   "metadata": {
    "scrolled": true
   },
   "outputs": [
    {
     "name": "stdout",
     "output_type": "stream",
     "text": [
      "ratio = 6/5, interval = m3\n",
      "ratio = 11/9, interval = m3\n",
      "ratio = 5/4, interval = M3\n",
      "ratio = 14/11, interval = M3\n"
     ]
    }
   ],
   "source": [
    "for numerator, denominator in sorted(\n",
    "    [(14,11), (6,5), (11,9), (5,4)],\n",
    "    key=lambda fraction: fraction[0] / fraction[1]):\n",
    "    interval_frequency = Frequency(base_frequency.frequency * numerator / denominator)\n",
    "    print(f'ratio = {numerator}/{denominator}, '\n",
    "          f'interval = {pitch_class_to_interval[interval_frequency.pitch_class - base_frequency.pitch_class]}''')"
   ]
  },
  {
   "cell_type": "markdown",
   "metadata": {},
   "source": [
    " - why do you think the ratios in the leftmost diagonal line (8/7; 9/7; 10/7; 11/7; 12/7; 7/7) of the tonality diamond are arranged in this particular order?\n",
    "\n",
    "    There are two main reasons. First of all is that, every diagonal from bottom right to top left, the numerator is always the same number or its double (when the denominator is greater than that number). The numerators from left to right are 8, 9, 10, 11, 12, 14 respectively. The absence of 13 is because this is a diamond with n = 11, and that 13 is a prime number.\n",
    "    \n",
    "    Now that the numerators are in order and divided by 7, then why the last one is 7/7 instead of 14/7? This is because for the sake of conveniency, the diamond is expected to contain only intervals within the range of [P1, P8), so 14/7 is brought down by an octave to 7/7.\n",
    "    \n",
    "    *Note: [a, b) means \"greater or equal to a, and less than b\"*"
   ]
  },
  {
   "cell_type": "markdown",
   "metadata": {},
   "source": [
    "## Question 3\n",
    " - What is sound mass?\n",
    "\n",
    "    Sound mass is a type of texture that usually contains sound clusters. Sound mass is more about the collective sounding rather than the individual parts."
   ]
  },
  {
   "cell_type": "markdown",
   "metadata": {},
   "source": [
    " - List three ways in which composers have created sound mass textures and mention composers names.\n",
    "     - Iannis Xenakis used stochastic distributions to create a sound mass that is distributed by scientific randomness.\n",
    "     - Gyorgy Ligeti used large number of cannons that result in massive number of notes playing on top of each other.\n",
    "     - Krzysztof Penderecki makes use of unconventional notations (sometimes rather graphic ones) to create sound masses that have some sort of shapes."
   ]
  }
 ],
 "metadata": {
  "kernelspec": {
   "display_name": "Python 3",
   "language": "python",
   "name": "python3"
  },
  "language_info": {
   "codemirror_mode": {
    "name": "ipython",
    "version": 3
   },
   "file_extension": ".py",
   "mimetype": "text/x-python",
   "name": "python",
   "nbconvert_exporter": "python",
   "pygments_lexer": "ipython3",
   "version": "3.8.3"
  }
 },
 "nbformat": 4,
 "nbformat_minor": 2
}
