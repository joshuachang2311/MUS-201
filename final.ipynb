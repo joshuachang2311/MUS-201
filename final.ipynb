{
 "cells": [
  {
   "cell_type": "markdown",
   "metadata": {},
   "source": [
    "# MUS 201 Final Test"
   ]
  },
  {
   "cell_type": "markdown",
   "metadata": {},
   "source": [
    " - Semester: Fall 2020\n",
    " - Name: Joshua Chang\n",
    " - NetID: chchang6\n",
    "\n",
    "All Python code are written myself except the NumPy library, which I explicitly imported for matrix and logarithmic calculations. This and other code works from MUS 201 will be on GitHub after the semester ends."
   ]
  },
  {
   "cell_type": "code",
   "execution_count": 1,
   "metadata": {},
   "outputs": [],
   "source": [
    "import numpy as np\n",
    "from frequency import Frequency\n",
    "\n",
    "n_semitones = 12"
   ]
  },
  {
   "cell_type": "markdown",
   "metadata": {},
   "source": [
    "## Question 1\n",
    "\n",
    "Define five out of the eight following terms. For each of them give at least one example of composer and work that can be connected to the term.\n",
    "\n",
    "1. additive synthesis\n",
    "     - As the name suggests, **additive synthesis** is as simple as adding sound waves together to get a desired sound. In often cases, sine waves are used since this is the most common type of oscillation in the nature.\n",
    "     - Example: *A.N.L -folds* by Sever Tipei\n",
    "\n",
    "\n",
    "2. klangfarbenmelodie\n",
    "     - **Klangfarbenmelodie** is a technique that distributes a musical line to multiple instruments (often alternately) with a view to enrich such musical line's timbre.\n",
    "     - Example: *Concerto for Nine Instruments* by Anton Webern\n",
    "     \n",
    "     \n",
    "3. non-retrogradable rhythm\n",
    "     - As the name suggests, **non-retrogradable rhythm** is not retrogradable (duh), meaning the retrograde of the rhythm has to be equivalent to itself, like a pendulum.\n",
    "     - Example: *Danse de la fureur, pour les sept trompettes* by Olivier Messiaen\n",
    "     \n",
    "     \n",
    "4. fibonacci series of numbers\n",
    "     - The **fibonacci numbers** can be expressed as a recursive function as such, where f(n) is the nth fibonacci number.\n",
    "         - f(1) = 1\n",
    "         - f(2) = 1\n",
    "         - f(i+2) = f(i) + f(i+1) for all i > 0\n",
    "     - (continued definition) The fibonacci numbers have a trait that when n approaches infinity, f(n+1)/f(n) is equal to the golden mean.\n",
    "     - Example: *Danseuses de Delphes* by Claude Debussy\n",
    "     \n",
    "     \n",
    "5. minimalism\n",
    "     - **Minimalism** is an idea that breaks music down to its fundamentals, with an attempt to minimize things and keep only the essentials.\n",
    "     - Example: *In C* by Terry Riley.\n",
    "     \n",
    "     \n",
    "6. sound mass\n",
    "     - **Sound mass** is a musical texture that comprises of dense sounds clusters that are meant to not be intepreted individually, but the overall \"cloud\" as a whole.\n",
    "     - Example: *Atmospheres* by Gyorgy Ligeti\n",
    "     \n",
    "     \n",
    "7. musique concrete\n",
    "     - **Musique concrete** is a type of electronic music (electro-acoustic in particular) that does modifications with pre-recorded sound (not necessarily music).\n",
    "     - Example: *Concrete PH* by Iannis Xenakis\n",
    "     \n",
    "     \n",
    "8. proportional notation\n",
    "     - **Proportional notation** is a type of notation that expresses the relative durations physically, meaning that it's proportional to the length of the notes.\n",
    "     - Example: *Threnody for the Victims of Hiroshima* by Krzysztof Penderecki"
   ]
  },
  {
   "cell_type": "markdown",
   "metadata": {},
   "source": [
    "## Question 2\n",
    "\n",
    "Using the following tone-row, use numbers (not pitch names) to find the following forms (building the matrix is optional)."
   ]
  },
  {
   "cell_type": "code",
   "execution_count": 2,
   "metadata": {},
   "outputs": [
    {
     "name": "stdout",
     "output_type": "stream",
     "text": [
      "[[ 0 11  3  4  8  7  9  5  6  1  2 10]\n",
      " [ 1  0  4  5  9  8 10  6  7  2  3 11]\n",
      " [ 9  8  0  1  5  4  6  2  3 10 11  7]\n",
      " [ 8  7 11  0  4  3  5  1  2  9 10  6]\n",
      " [ 4  3  7  8  0 11  1  9 10  5  6  2]\n",
      " [ 5  4  8  9  1  0  2 10 11  6  7  3]\n",
      " [ 3  2  6  7 11 10  0  8  9  4  5  1]\n",
      " [ 7  6 10 11  3  2  4  0  1  8  9  5]\n",
      " [ 6  5  9 10  2  1  3 11  0  7  8  4]\n",
      " [11 10  2  3  7  6  8  4  5  0  1  9]\n",
      " [10  9  1  2  6  5  7  3  4 11  0  8]\n",
      " [ 2  1  5  6 10  9 11  7  8  3  4  0]]\n"
     ]
    }
   ],
   "source": [
    "tone_row = np.array([0, 11, 3, 4, 8, 7, 9, 5, 6, 1, 2, 10])\n",
    "\n",
    "matrix = np.full((n_semitones, n_semitones), 0)\n",
    "for i, tone in enumerate(tone_row):\n",
    "    matrix[i, :] = (tone_row + n_semitones - tone) % n_semitones\n",
    "print(matrix)"
   ]
  },
  {
   "cell_type": "code",
   "execution_count": 3,
   "metadata": {},
   "outputs": [
    {
     "name": "stdout",
     "output_type": "stream",
     "text": [
      " P0 = [ 0 11  3  4  8  7  9  5  6  1  2 10]\n",
      " I3 = [ 3  4  0 11  7  8  6 10  9  2  1  5]\n",
      " R0 = [10  2  1  6  5  9  7  8  4  3 11  0]\n",
      "RI3 = [ 5  1  2  9 10  6  8  7 11  0  4  3]\n"
     ]
    }
   ],
   "source": [
    "print(f' P0 = {matrix[0]}')\n",
    "print(f' I3 = {matrix[:, 2]}')\n",
    "print(f' R0 = {np.flip(matrix[0])}')\n",
    "print(f'RI3 = {np.flip(matrix[:, 2])}')"
   ]
  },
  {
   "cell_type": "markdown",
   "metadata": {},
   "source": [
    "## Question 3\n",
    "\n",
    "Write the first 15 overtones of this sound."
   ]
  },
  {
   "cell_type": "code",
   "execution_count": 4,
   "metadata": {},
   "outputs": [
    {
     "name": "stdout",
     "output_type": "stream",
     "text": [
      "note #1: Eb2\n",
      "note #2: Eb3\n",
      "note #3: Bb3\n",
      "note #4: Eb4\n",
      "note #5: G4\n",
      "note #6: Bb4\n",
      "note #7: Db5\n",
      "note #8: Eb5\n",
      "note #9: F5\n",
      "note #10: G5\n",
      "note #11: A5\n",
      "note #12: Bb5\n",
      "note #13: B5\n",
      "note #14: Db6\n",
      "note #15: D6\n",
      "note #16: Eb6\n"
     ]
    }
   ],
   "source": [
    "pitch_class_to_note = ['C', 'Db', 'D', 'Eb', 'E', 'F', 'Gb', 'G', 'Ab', 'A', 'Bb', 'B']\n",
    "Eb2 = Frequency(2, 3)\n",
    "\n",
    "for i in range(1, 1 + 16):\n",
    "    overtone = Eb2.nth_overtone(i)\n",
    "    print(f'note #{i}: {pitch_class_to_note[overtone.pitch_class]}{overtone.octave}')"
   ]
  },
  {
   "cell_type": "markdown",
   "metadata": {},
   "source": [
    "![](https://i.imgur.com/TydUhgi.png)"
   ]
  },
  {
   "cell_type": "markdown",
   "metadata": {},
   "source": [
    "## Question 4\n",
    "\n",
    "Write a short essay on ONE of the following topics. Mention technical aspects and aesthetics\n",
    "associated with it. Give at least three examples of works by different composers and refer to materials\n",
    "from the Reading assignments or class notes."
   ]
  },
  {
   "cell_type": "markdown",
   "metadata": {},
   "source": [
    "### Indeterminancy\n",
    "\n",
    "#### Aesthetics\n",
    "\n",
    "Indeterminancy is, as its name suggests, a philosophy in music where composers, compared to other musical works, no longer takes 100% control over the details of the music, which makes the music less subjective. There are a few reasons to this.\n",
    "\n",
    "First of all, the lack of form or structure can be seen as a liberation from the models of composition that existed for thousands of years. The music is less designed, and in a way more geniune to itself rather than to the composer. Such distance between the composer and the work also evokes discussion around the definition meaning of composing and creativity, even music itself.\n",
    "\n",
    "Speaking of creativity, since indeterminancy on different levels can interrupt the inherent neurophysiological tendencies developed by human composers, the results that are often not predictable to socially-constructed human ear can be in a way more creative-sounding.\n",
    "\n",
    "#### Types of indeterminancy and notable composers & works\n",
    "\n",
    "##### Chance music\n",
    "\n",
    "Chance music is the music with the element of indeterminancy in the composition phase. That is, when the composition is complete, the music does not variate as much on the performance level, at least nowhere near the level of free intepretation like aleatory music.\n",
    "\n",
    "Chance music are usually music based on certain elements and limitations. Once these two are set, the arrangement of the element that are within the limitations are decided randomly, through means such as coin-flipping, dice-rowing, etc. That being said, the composer can still decide some details, such as the length of the piece or the instrumentation used. The following examples of chance music will also introduce other random techniques.\n",
    "\n",
    "John Cage is one of the pioneers of chance music, whose most famous piece is probably the *Music of Changes*. The title itself corresponds to the inspiration Cage drew from, the *I Ching*, which in Chinese means \"the book of changes.\" Cage followed the steps of Divination using *I Ching* to create the randomness of the music, and later on used a computer program that models the book along with Lejaren Hiller.\n",
    "\n",
    "An even more technical way of introducing randomness comes from Iannis Xenakis, who has an engineering background and showcased stochastic distributions in musical composition for the first time. For example, he used the distribution to randomize the attack points of sound so it sounds asymmetrical. One of the works that utilized this technique is *Pithoprakta*.\n",
    "\n",
    "##### Aleatory music\n",
    "\n",
    "Aleatory music is the music with the element of indeterminancy in the performance phase. In often cases, the instructions of how to play the music is abstract enough that allows different performers (or performance groups) to determine their methods in various ways.\n",
    "\n",
    "One common technique of aleatory music is the use of graphic score (though graphic scores are not always aleatory music!). This challenges the convention that musical scores and the music produced are almost like a strict function that is both injective and surjective (or 1-to-1 and onto; those are rather mathematical terms). In aleatory music, rather, according to Karlheinz Stockhausen, are like \"universes\" where people explore by experiencing more variants of the same piece. Stockhausen's own work *Plus Minus* is an example of a musical score that are more like guidance rather than explicit step-by-step instructions.\n",
    "\n",
    "However, aleatory music can definitely come in more than in the form of musical scores. In another Stockhausen's composition, *Intensitat*, the instruction comes in the form of text, which says (in English):\n",
    "\n",
    "```\n",
    "play single sounds\n",
    "with such dedication\n",
    "until you feel the warmth\n",
    "that radiates from you\n",
    "\n",
    "play on and sustain it\n",
    "as long as you can\n",
    "```\n",
    "\n",
    "This also blurs the line between the ideas of composer, performer, music, sound, and emotions."
   ]
  }
 ],
 "metadata": {
  "kernelspec": {
   "display_name": "Python 3",
   "language": "python",
   "name": "python3"
  },
  "language_info": {
   "codemirror_mode": {
    "name": "ipython",
    "version": 3
   },
   "file_extension": ".py",
   "mimetype": "text/x-python",
   "name": "python",
   "nbconvert_exporter": "python",
   "pygments_lexer": "ipython3",
   "version": "3.8.3"
  }
 },
 "nbformat": 4,
 "nbformat_minor": 4
}
